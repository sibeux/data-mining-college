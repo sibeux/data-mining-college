{
 "cells": [
  {
   "cell_type": "markdown",
   "metadata": {},
   "source": [
    "Lakukan dan jelaskan clustering pada dataset mall_customer.csv dengan ketentuan dan langkah-langkah sebagai berikut"
   ]
  },
  {
   "cell_type": "markdown",
   "metadata": {},
   "source": [
    "DATA PREPOCESSING"
   ]
  },
  {
   "cell_type": "markdown",
   "metadata": {},
   "source": [
    "1. Load dataset dan buang feature yang tidak dibutuhkan serta rapikan dataset"
   ]
  },
  {
   "cell_type": "code",
   "execution_count": null,
   "metadata": {
    "vscode": {
     "languageId": "powershell"
    }
   },
   "outputs": [],
   "source": [
    "from sklearn.cluster import KMeans\n",
    "import pandas as pd\n",
    "from sklearn.preprocessing import MinMaxScaler, LabelEncoder\n",
    "from matplotlib import pyplot as plt\n",
    "from itertools import combinations\n",
    "from sklearn.decomposition import PCA\n",
    "import seaborn as sns\n",
    "%matplotlib inline"
   ]
  },
  {
   "cell_type": "code",
   "execution_count": null,
   "metadata": {
    "vscode": {
     "languageId": "powershell"
    }
   },
   "outputs": [],
   "source": [
    "# load dataset\n",
    "df = pd.read_csv('../../../../../Mall_Customers.csv')\n",
    "df"
   ]
  },
  {
   "cell_type": "code",
   "execution_count": null,
   "metadata": {
    "vscode": {
     "languageId": "powershell"
    }
   },
   "outputs": [],
   "source": [
    "# buang feature yang tidak diperlukan\n",
    "df.drop(['CustomerID'], axis=1, inplace=True)"
   ]
  },
  {
   "cell_type": "markdown",
   "metadata": {},
   "source": [
    "2. Cek tipe data pada masing-masing feature dan encoding bila diperlukan"
   ]
  },
  {
   "cell_type": "code",
   "execution_count": null,
   "metadata": {
    "vscode": {
     "languageId": "powershell"
    }
   },
   "outputs": [],
   "source": [
    "# cek tipe data dari masing-masing feature\n",
    "df.info()"
   ]
  },
  {
   "cell_type": "code",
   "execution_count": null,
   "metadata": {
    "vscode": {
     "languageId": "powershell"
    }
   },
   "outputs": [],
   "source": [
    "# melakukan encode pada feature yang berupa string (Genre)\n",
    "df_encode = df.copy()\n",
    "df_encode['Genre'] = LabelEncoder().fit_transform(df_encode['Genre'])\n",
    "df_encode.head()"
   ]
  },
  {
   "cell_type": "markdown",
   "metadata": {},
   "source": [
    "3. Cek data null dan data duplicated"
   ]
  },
  {
   "cell_type": "code",
   "execution_count": null,
   "metadata": {
    "vscode": {
     "languageId": "powershell"
    }
   },
   "outputs": [],
   "source": [
    "# cek data null\n",
    "df_encode.isnull().sum()"
   ]
  },
  {
   "cell_type": "code",
   "execution_count": null,
   "metadata": {
    "vscode": {
     "languageId": "powershell"
    }
   },
   "outputs": [],
   "source": [
    "# cek data duplikat\n",
    "df_encode.duplicated().sum()"
   ]
  },
  {
   "cell_type": "markdown",
   "metadata": {},
   "source": [
    "4. Handling miss value dan handling duplicated data jika diperlukan"
   ]
  },
  {
   "cell_type": "markdown",
   "metadata": {},
   "source": [
    "5. Cek data outlier dengan visualisasikan dalam boxplot pada masing-masing feature"
   ]
  },
  {
   "cell_type": "code",
   "execution_count": null,
   "metadata": {
    "vscode": {
     "languageId": "powershell"
    }
   },
   "outputs": [],
   "source": [
    "df_boxplot = df_encode.plot.box(figsize=(10,5), showmeans=True, meanline=True, grid=True)"
   ]
  },
  {
   "cell_type": "markdown",
   "metadata": {},
   "source": [
    "6. Handling outlier jika diperlukan"
   ]
  },
  {
   "cell_type": "code",
   "execution_count": null,
   "metadata": {
    "vscode": {
     "languageId": "powershell"
    }
   },
   "outputs": [],
   "source": [
    "# handling outliers\n",
    "qnl = df_encode['Annual Income (k$)'].quantile(0.25)\n",
    "qnh = df_encode['Annual Income (k$)'].quantile(0.75)\n",
    "mqr = (qnh - qnl)"
   ]
  },
  {
   "cell_type": "code",
   "execution_count": null,
   "metadata": {
    "vscode": {
     "languageId": "powershell"
    }
   },
   "outputs": [],
   "source": [
    "df_encode['Annual Income (k$)'] = df_encode['Annual Income (k$)'].mask(df_new['Annual Income (k$)'] < qnl - 1.5 * mqr, qnl - 1.5 * mqr)\n",
    "df_encode"
   ]
  },
  {
   "cell_type": "code",
   "execution_count": null,
   "metadata": {
    "vscode": {
     "languageId": "powershell"
    }
   },
   "outputs": [],
   "source": [
    "df_new = df_encode.copy()\n",
    "df_new = df_new[(df_encode['Annual Income (k$)'] > qnl - 1.5 * mqr) & (df_encode['Annual Income (k$)'] < qnh + 1.5 * mqr)]\n",
    "\n",
    "df_boxplot = df_new.plot.box(figsize=(10,5), showmeans=True, meanline=True, grid=True)"
   ]
  },
  {
   "cell_type": "markdown",
   "metadata": {},
   "source": [
    "7. Visualisasikan korelasi antar-feature dengan visualisasi heatmap"
   ]
  },
  {
   "cell_type": "code",
   "execution_count": null,
   "metadata": {
    "vscode": {
     "languageId": "powershell"
    }
   },
   "outputs": [],
   "source": [
    "# corelasi feature\n",
    "corr = df_new.corr()\n",
    "corr"
   ]
  },
  {
   "cell_type": "code",
   "execution_count": null,
   "metadata": {
    "vscode": {
     "languageId": "powershell"
    }
   },
   "outputs": [],
   "source": [
    "sns.heatmap(corr, annot=True, cmap='RdYlGn', linewidths=0.2, annot_kws={'size':8}, fmt='.2f')"
   ]
  },
  {
   "cell_type": "markdown",
   "metadata": {},
   "source": [
    "8. Normalisasikan data menggunakan normalisasi tertentu (bebas bisa standart atau minmax)\n"
   ]
  },
  {
   "cell_type": "code",
   "execution_count": null,
   "metadata": {
    "vscode": {
     "languageId": "powershell"
    }
   },
   "outputs": [],
   "source": [
    "# minmax scaler\n",
    "scaler = MinMaxScaler()\n",
    "df_colomn = list(df_new.columns)\n",
    "scaler.fit(df_new[df_colomn])\n",
    "\n",
    "df_new_scaled = scaler.transform(df_new)\n",
    "df_new[df_colomn] = df_new_scaled\n",
    "df_new"
   ]
  },
  {
   "cell_type": "markdown",
   "metadata": {},
   "source": [
    "9. Tampilkan scatter plot sebelum clustering dengan kombinasi 4 atribut"
   ]
  },
  {
   "cell_type": "code",
   "execution_count": null,
   "metadata": {
    "vscode": {
     "languageId": "powershell"
    }
   },
   "outputs": [],
   "source": [
    "df_new2 = df_new.copy().columns\n",
    "combins = list(combinations(df_new2, 2))\n",
    "\n",
    "for x in combins:\n",
    "    plt.scatter(df_new[x[0]], df_new[x[1]])\n",
    "    plt.xlabel(x[0])\n",
    "    plt.ylabel(x[1])\n",
    "    plt.show()"
   ]
  },
  {
   "cell_type": "markdown",
   "metadata": {},
   "source": [
    "MODELLING   "
   ]
  },
  {
   "cell_type": "markdown",
   "metadata": {},
   "source": [
    "10. Clusterlah dataset dengan nilai K 3, 4, 5 dengan atribut 'Annual Income (k$)' dan 'Spending Score (1-100)'"
   ]
  },
  {
   "cell_type": "markdown",
   "metadata": {},
   "source": [
    "11. Tampilkan scatter plot setelah clustering dengan centroid masing-masing cluster"
   ]
  },
  {
   "cell_type": "code",
   "execution_count": null,
   "metadata": {
    "vscode": {
     "languageId": "powershell"
    }
   },
   "outputs": [],
   "source": [
    "data_model = df_new.copy().copy()\n",
    "columns = data_model[['Annual Income (k$)', 'Spending Score (1-100)']]\n",
    "\n",
    "for x in [3,4,5]:\n",
    "    kmeans = KMeans(n_clusters=x)\n",
    "    predict = kmeans.fit_predict(columns)\n",
    "    plt.scatter(columns['Annual Income (k$)'], columns['Spending Score (1-100)'], c=predict)\n",
    "    plt.scatter(kmeans.cluster_centers_[:,0], kmeans.cluster_centers_[:,1], c='red', s=200,label='centroid')\n",
    "    plt.legend()\n",
    "    plt.show()"
   ]
  },
  {
   "cell_type": "markdown",
   "metadata": {},
   "source": [
    "12. Tentukan manakah k terbaik jika dilakukan analisis secara visual"
   ]
  },
  {
   "cell_type": "markdown",
   "metadata": {},
   "source": [
    "OPTIONAL"
   ]
  },
  {
   "cell_type": "markdown",
   "metadata": {},
   "source": [
    "13. Lakukan implementasi elbow method untuk mendeteksi K terbaik"
   ]
  },
  {
   "cell_type": "code",
   "execution_count": null,
   "metadata": {
    "vscode": {
     "languageId": "powershell"
    }
   },
   "outputs": [],
   "source": [
    "# elbow method\n",
    "wcss = []\n",
    "for i in range(1, 11):\n",
    "    kmeans = KMeans(n_clusters=i, init='k-means++', max_iter=300, n_init=10, random_state=0)\n",
    "    kmeans.fit(data_model)\n",
    "    wcss.append(kmeans.inertia_)\n",
    "\n",
    "plt.figure(figsize=(10,5))\n",
    "plt.plot(range(1, 11), wcss, marker='o', color='red')\n",
    "plt.xlabel('Number of clusters')\n",
    "plt.ylabel('WCSS') # within cluster sum of squares\n",
    "plt.show()"
   ]
  },
  {
   "cell_type": "markdown",
   "metadata": {},
   "source": [
    "14. Lakukan PCA untuk feature reduction dari seluruh feature menjadi 2 feature"
   ]
  },
  {
   "cell_type": "code",
   "execution_count": null,
   "metadata": {
    "vscode": {
     "languageId": "powershell"
    }
   },
   "outputs": [],
   "source": [
    "# pca feature reduction\n",
    "pca = PCA(n_components=2)\n",
    "pca_data = pd.DataFrame(pca.fit_transform(data_model))\n",
    "pca_data.columns = ['PC1', 'PC2']\n",
    "pca_data"
   ]
  },
  {
   "cell_type": "code",
   "execution_count": null,
   "metadata": {
    "vscode": {
     "languageId": "powershell"
    }
   },
   "outputs": [],
   "source": [
    "plt.scatter(pca_data['PC1'], pca_data['PC2'])"
   ]
  },
  {
   "cell_type": "code",
   "execution_count": null,
   "metadata": {
    "vscode": {
     "languageId": "powershell"
    }
   },
   "outputs": [],
   "source": [
    "wcss = []\n",
    "for i in range(1, 11):\n",
    "    kmeans = KMeans(n_clusters=i, init='k-means++', max_iter=300, n_init=10, random_state=0)\n",
    "    kmeans.fit(pca_data)\n",
    "    wcss.append(kmeans.inertia_)\n",
    "\n",
    "plt.figure(figsize=(10,5))\n",
    "plt.plot(range(1, 11), wcss, marker='o', color='red')\n",
    "plt.xlabel('Number of clusters')\n",
    "plt.ylabel('WCSS') # within cluster sum of squares"
   ]
  },
  {
   "cell_type": "code",
   "execution_count": null,
   "metadata": {
    "vscode": {
     "languageId": "powershell"
    }
   },
   "outputs": [],
   "source": [
    "kmeans = KMeans(n_clusters=3, init='k-means++', max_iter=300, n_init=10, random_state=0)\n",
    "predict = kmeans.fit_predict(pca_data)\n",
    "plt.scatter(pca_data['PC1'], pca_data['PC2'], c=predict)"
   ]
  },
  {
   "cell_type": "markdown",
   "metadata": {},
   "source": [
    "15. Lakukan visualisasi 3D scatterplot setelah clustering"
   ]
  },
  {
   "cell_type": "code",
   "execution_count": null,
   "metadata": {
    "vscode": {
     "languageId": "powershell"
    }
   },
   "outputs": [],
   "source": [
    "# 3D scatter plot\n",
    "pca = PCA(n_components=3)\n",
    "pca_data = pd.DataFrame(pca.fit_transform(data_model))\n",
    "pca_data.columns = ['PC1', 'PC2', 'PC3']\n",
    "\n",
    "kmeans = KMeans(n_clusters=4, init='k-means++', max_iter=300, n_init=10, random_state=0)\n",
    "predict = kmeans.fit_predict(pca_data)\n",
    "\n",
    "plt.figure(figsize=(20,10))\n",
    "ax = plt.axes(projection='3d')\n",
    "ax.scatter(pca_data['PC1'], pca_data['PC2'], pca_data['PC3'], c=predict)\n",
    "\n",
    "centroid = kmeans.cluster_centers_\n",
    "ax.scatter(centroid[:,0], centroid[:,1], centroid[:,2], c='red', s=200, label='centroid')\n",
    "ax.view_init(30, 225)\n",
    "\n",
    "ax.set_xlabel('Age')\n",
    "ax.set_ylabel('Annual Income (k$)')\n",
    "ax.set_zlabel('Spending Score (1-100)')\n",
    "\n",
    "plt.legend()\n"
   ]
  }
 ],
 "metadata": {
  "interpreter": {
   "hash": "70e32dc76d27417f5e9ec5e494b9f807900c34e0fc91e8110dad087c5aafef2c"
  },
  "kernelspec": {
   "display_name": "Python 3.9.7 ('base')",
   "language": "python",
   "name": "python3"
  },
  "language_info": {
   "codemirror_mode": {
    "name": "ipython",
    "version": 3
   },
   "file_extension": ".py",
   "mimetype": "text/x-python",
   "name": "python",
   "nbconvert_exporter": "python",
   "pygments_lexer": "ipython3",
   "version": "3.9.7"
  },
  "orig_nbformat": 4
 },
 "nbformat": 4,
 "nbformat_minor": 2
}
