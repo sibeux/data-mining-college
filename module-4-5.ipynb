{
 "cells": [
  {
   "cell_type": "markdown",
   "metadata": {},
   "source": [
    "Ulangilah tahapan klasifikasi menggunakan dataset wine, pima indian diabetes, breast cancer. \n",
    "Hitunglah akurasinya berdasar confusion matrix dengan pesentase data testing 20%, 30%, dan 40%"
   ]
  },
  {
   "cell_type": "code",
   "execution_count": null,
   "metadata": {
    "vscode": {
     "languageId": "powershell"
    }
   },
   "outputs": [],
   "source": [
    "import numpy as np\n",
    "import pandas as pd\n",
    "import matplotlib.pyplot as plt\n",
    "import sklearn\n",
    "from sklearn.model_selection import train_test_split\n",
    "from sklearn import datasets\n",
    "from sklearn import tree\n",
    "from sklearn.metrics import accuracy_score\n",
    "from sklearn.metrics import confusion_matrix\n",
    "from sklearn.datasets import load_wine\n",
    "from sklearn.datasets import load_breast_cancer\n",
    "from sklearn.tree import DecisionTreeClassifier"
   ]
  },
  {
   "cell_type": "code",
   "execution_count": null,
   "metadata": {
    "vscode": {
     "languageId": "powershell"
    }
   },
   "outputs": [],
   "source": [
    "data_wine = load_wine()\n",
    "wine = pd.DataFrame(data_wine.data)\n",
    "print('Featured Name : ', data_wine.feature_names)\n",
    "print('Featured Shape : ', data_wine.data.shape)\n",
    "print('Dataset :\\n', wine.head())"
   ]
  },
  {
   "cell_type": "code",
   "execution_count": null,
   "metadata": {
    "vscode": {
     "languageId": "powershell"
    }
   },
   "outputs": [],
   "source": [
    "k = wine.values[:,:13]\n",
    "l = data_wine.target\n",
    "\n",
    "k_train1, k_test1, l_train1, l_test1 = train_test_split(k, l, test_size=0.2, random_state=100)\n",
    "k_train2, k_test2, l_train2, l_test2 = train_test_split(k, l, test_size=0.3, random_state=100)\n",
    "k_train3, k_test3, l_train3, l_test3 = train_test_split(k, l, test_size=0.4, random_state=100)\n",
    "\n",
    "classy = DecisionTreeClassifier(random_state = 100)\n",
    "classy.fit(k_train1, l_train1)\n",
    "classy.fit(k_train2, l_train2)\n",
    "classy.fit(k_train3, l_train3)\n",
    "\n",
    "k_predict1 = classy.predict(k_test1)\n",
    "k_predict2 = classy.predict(k_test2)\n",
    "k_predict3 = classy.predict(k_test3)\n",
    "\n",
    "print('Data test 20% :\\n', k_predict1)\n",
    "print('Data test 30% :\\n', k_predict2)\n",
    "print('Data test 40% :\\n', k_predict3)"
   ]
  },
  {
   "cell_type": "code",
   "execution_count": null,
   "metadata": {
    "vscode": {
     "languageId": "powershell"
    }
   },
   "outputs": [],
   "source": [
    "tree.plot_tree(classy)\n",
    "text_rep = tree.export_text(classy)\n",
    "print('Text Representation :\\n', text_rep)"
   ]
  },
  {
   "cell_type": "code",
   "execution_count": null,
   "metadata": {
    "vscode": {
     "languageId": "powershell"
    }
   },
   "outputs": [],
   "source": [
    "print('Data test 20% : ')\n",
    "k_pred = classy.predict(k_test1)\n",
    "print('confusion matrix :\\n', confusion_matrix(l_test1, k_pred))\n",
    "print('accuracy score : {:.2f}\\n'.format(accuracy_score(l_test1, k_pred)))\n",
    "\n",
    "print('Data test 30% : ')\n",
    "k_pred2 = classy.predict(k_test2)\n",
    "print('confusion matrix :\\n', confusion_matrix(l_test2, k_pred2))\n",
    "print('accuracy score : {:.2f}\\n'.format(accuracy_score(l_test2, k_pred2)))\n",
    "\n",
    "print('Data test 40% : ')\n",
    "k_pred3 = classy.predict(k_test3)\n",
    "print('confusion matrix :\\n', confusion_matrix(l_test3, k_pred3))\n",
    "print('accuracy score : {:.2f}\\n'.format(accuracy_score(l_test3, k_pred3)))"
   ]
  },
  {
   "cell_type": "code",
   "execution_count": null,
   "metadata": {
    "vscode": {
     "languageId": "powershell"
    }
   },
   "outputs": [],
   "source": [
    "data_diabet = pd.read_csv('../../../../../diabetes.csv')\n",
    "print(data_diabet.to_string())\n",
    "print('Dataset :\\n', data_diabet.shape)\n",
    "# diabetes = pd.DataFrame(data_diabet.data)\n",
    "# print('Featured Name : ', data_diabet.feature_names)\n",
    "# print('Featured Shape : ', data_diabet.data.shape)\n",
    "# print('Dataset :\\n', diabetes)"
   ]
  },
  {
   "cell_type": "code",
   "execution_count": null,
   "metadata": {
    "vscode": {
     "languageId": "powershell"
    }
   },
   "outputs": [],
   "source": [
    "m = data_diabet.values[:,:8]\n",
    "n = data_diabet.values[:,8]\n",
    "\n",
    "m_train1, m_test1, n_train1, n_test1 = train_test_split(m, n, test_size=0.2, random_state=100)\n",
    "m_train2, m_test2, n_train2, n_test2 = train_test_split(m, n, test_size=0.3, random_state=100)\n",
    "m_train3, m_test3, n_train3, n_test3 = train_test_split(m, n, test_size=0.4, random_state=100)\n",
    "\n",
    "classy = DecisionTreeClassifier(random_state = 100)\n",
    "classy.fit(m_train1, n_train1)\n",
    "classy.fit(m_train2, n_train2)\n",
    "classy.fit(m_train3, n_train3)\n",
    "\n",
    "m_pready1 = classy.predict(m_test1)\n",
    "m_pready2 = classy.predict(m_test2)\n",
    "m_pready3 = classy.predict(m_test3)\n",
    "\n",
    "print('Data test 20% :\\n', m_pready1)\n",
    "print('Data test 30% :\\n', m_pready2)\n",
    "print('Data test 40% :\\n', m_pready3)"
   ]
  },
  {
   "cell_type": "code",
   "execution_count": null,
   "metadata": {
    "vscode": {
     "languageId": "powershell"
    }
   },
   "outputs": [],
   "source": [
    "tree.plot_tree(classy)\n",
    "text_rep = tree.export_text(classy)\n",
    "print('Text Representation :\\n', text_rep)"
   ]
  },
  {
   "cell_type": "code",
   "execution_count": null,
   "metadata": {
    "vscode": {
     "languageId": "powershell"
    }
   },
   "outputs": [],
   "source": [
    "print('Data test 20% : ')\n",
    "m_pred = classy.predict(m_test1)\n",
    "print('confusion matrix :\\n', confusion_matrix(n_test1, m_pred))\n",
    "print('accuracy score : {:.2f}\\n'.format(accuracy_score(n_test1, m_pred)))\n",
    "\n",
    "print('Data test 30% : ')\n",
    "m_pred2 = classy.predict(m_test2)\n",
    "print('confusion matrix :\\n', confusion_matrix(n_test2, m_pred2))\n",
    "print('accuracy score : {:.2f}\\n'.format(accuracy_score(n_test2, m_pred2)))\n",
    "\n",
    "print('Data test 40% : ')\n",
    "m_pred3 = classy.predict(m_test3)\n",
    "print('confusion matrix :\\n', confusion_matrix(n_test3, m_pred3))\n",
    "print('accuracy score : {:.2f}\\n'.format(accuracy_score(n_test3, m_pred3)))"
   ]
  },
  {
   "cell_type": "code",
   "execution_count": null,
   "metadata": {
    "vscode": {
     "languageId": "powershell"
    }
   },
   "outputs": [],
   "source": [
    "data_cancer = load_breast_cancer()\n",
    "cancer = pd.DataFrame(data_cancer.data)\n",
    "print('Featured Name : ', data_cancer.feature_names)\n",
    "print('Featured Shape : ', data_cancer.data.shape)\n",
    "print('Dataset :\\n', cancer.head())"
   ]
  },
  {
   "cell_type": "code",
   "execution_count": null,
   "metadata": {
    "vscode": {
     "languageId": "powershell"
    }
   },
   "outputs": [],
   "source": [
    "r = cancer.values[:,:30]\n",
    "s = data_cancer.target\n",
    "\n",
    "r_train1, r_test1, s_train1, s_test1 = train_test_split(r, s, test_size=0.2, random_state=100)\n",
    "r_train2, r_test2, s_train2, s_test2 = train_test_split(r, s, test_size=0.3, random_state=100)\n",
    "r_train3, r_test3, s_train3, s_test3 = train_test_split(r, s, test_size=0.4, random_state=100)\n",
    "\n",
    "classy = DecisionTreeClassifier(random_state = 100)\n",
    "classy.fit(r_train1, s_train1)\n",
    "classy.fit(r_train2, s_train2)\n",
    "classy.fit(r_train3, s_train3)\n",
    "\n",
    "s_pready1 = classy.predict(r_test1)\n",
    "s_pready2 = classy.predict(r_test2)\n",
    "s_pready3 = classy.predict(r_test3)\n",
    "\n",
    "print('Data test 20% :\\n', s_pready1)\n",
    "print('Data test 30% :\\n', s_pready2)\n",
    "print('Data test 40% :\\n', s_pready3)"
   ]
  },
  {
   "cell_type": "code",
   "execution_count": null,
   "metadata": {
    "vscode": {
     "languageId": "powershell"
    }
   },
   "outputs": [],
   "source": [
    "tree.plot_tree(classy)\n",
    "text_rep = tree.export_text(classy)\n",
    "print('Text Representation :\\n', text_rep)"
   ]
  },
  {
   "cell_type": "code",
   "execution_count": null,
   "metadata": {
    "vscode": {
     "languageId": "powershell"
    }
   },
   "outputs": [],
   "source": [
    "print('Data test 20% : ')\n",
    "r_pred = classy.predict(r_test1)\n",
    "print('confusion matrix :\\n', confusion_matrix(s_test1, r_pred))\n",
    "print('accuracy score : {:.2f}\\n'.format(accuracy_score(s_test1, r_pred)))\n",
    "\n",
    "print('Data test 30% : ')\n",
    "r_pred2 = classy.predict(r_test2)\n",
    "print('confusion matrix :\\n', confusion_matrix(s_test2, r_pred2))\n",
    "print('accuracy score : {:.2f}\\n'.format(accuracy_score(s_test2, r_pred2)))\n",
    "\n",
    "print('Data test 40% : ')\n",
    "r_pred3 = classy.predict(r_test3)\n",
    "print('confusion matrix :\\n', confusion_matrix(s_test3, r_pred3))\n",
    "print('accuracy score : {:.2f}\\n'.format(accuracy_score(s_test3, r_pred3)))"
   ]
  }
 ],
 "metadata": {
  "interpreter": {
   "hash": "70e32dc76d27417f5e9ec5e494b9f807900c34e0fc91e8110dad087c5aafef2c"
  },
  "kernelspec": {
   "display_name": "Python 3.9.7 ('base')",
   "language": "python",
   "name": "python3"
  },
  "language_info": {
   "codemirror_mode": {
    "name": "ipython",
    "version": 3
   },
   "file_extension": ".py",
   "mimetype": "text/x-python",
   "name": "python",
   "nbconvert_exporter": "python",
   "pygments_lexer": "ipython3",
   "version": "3.9.7"
  },
  "orig_nbformat": 4
 },
 "nbformat": 4,
 "nbformat_minor": 2
}
