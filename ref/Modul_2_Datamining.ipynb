{
  "cells": [
    {
      "cell_type": "markdown",
      "metadata": {
        "id": "PKT93AXAmInZ"
      },
      "source": [
        "#Tugas Data Mining (Modul 2)\n",
        "\n",
        "Kukuh Satrio Bimantoro\n",
        "\n",
        "202410102094\n",
        "\n",
        "Teknologi Informasi\n",
        "\n",
        "Kelas Data Mining C"
      ]
    },
    {
      "cell_type": "markdown",
      "metadata": {
        "id": "g_va0Mc5lSqW"
      },
      "source": [
        "##Nomor 1\n",
        "\n",
        "Jelaskan makna dataset. Jelaskan pula makna data training dan data testing"
      ]
    },
    {
      "cell_type": "markdown",
      "metadata": {
        "id": "lVGIDkoVmcEp"
      },
      "source": [
        "##Nomor 2\n",
        "\n",
        "Jelaskan proses penyusunan dataset"
      ]
    },
    {
      "cell_type": "markdown",
      "metadata": {
        "id": "pnpGcJnbmhx4"
      },
      "source": [
        "##Nomor 3\n",
        "\n",
        "Jelaskan makna attribut dataset iris. Jelaskan pula makna kelas dataset iris"
      ]
    },
    {
      "cell_type": "markdown",
      "metadata": {
        "id": "9TPBsA5lmoVQ"
      },
      "source": [
        "##Nomor 4\n",
        "\n",
        "Masukkan dataset iris sebagai array 2D di numpy. Pisahkan setiap kelas di array yang berbeda : setosa, versicolor, virginica, dan unknown"
      ]
    },
    {
      "cell_type": "code",
      "execution_count": null,
      "metadata": {
        "id": "i8s_nJtvlD0Z"
      },
      "outputs": [],
      "source": [
        "import numpy as np\n",
        "import matplotlib.pyplot as plt"
      ]
    },
    {
      "cell_type": "code",
      "execution_count": null,
      "metadata": {
        "colab": {
          "base_uri": "https://localhost:8080/"
        },
        "id": "rK3jqV43bLvx",
        "outputId": "76c5d18e-b90a-4fad-9e93-3f5b619f3449"
      },
      "outputs": [],
      "source": [
        "setosa = np.array([\n",
        "[0.2,\t1.4,\t3.5,\t5.1],\n",
        "[0.2,\t1.4,\t3,\t4.9],\n",
        "[0.2,\t1.3,\t3.2,\t4.7],\n",
        "[0.2,\t1.5,\t3.1,\t4.6],\n",
        "[0.2,\t1.4,\t3.6,\t5],\n",
        "[0.4,\t1.7,\t3.9,\t5.4],\n",
        "[0.3,\t1.4,\t3.4,\t4.6],\n",
        "[0.2,\t1.5,\t3.4,\t5],\n",
        "[0.2,\t1.4,\t2.9,\t4.4],\n",
        "[0.1,\t1.5,\t3.1,\t4.9],\n",
        "[0.2,\t1.5,\t3.7,\t5.4],\n",
        "[0.2,\t1.6,\t3.4,\t4.8],\n",
        "[0.1,\t1.4,\t3,\t4.8],\n",
        "[0.1,\t1.1,\t3,\t4.3],\n",
        "[0.2,\t1.2,\t4,\t5.8],\n",
        "[0.4,\t1.5,\t4.4,\t5.7],\n",
        "[0.4,\t1.3,\t3.9,\t5.4],\n",
        "[0.3,\t1.4,\t3.5,\t5.1],\n",
        "[0.3,\t1.7,\t3.8,\t5.7],\n",
        "[0.3,\t1.5,\t3.8,\t5.1],\n",
        "[0.2,\t1.7,\t3.4,\t5.4],\n",
        "[0.4,\t1.5,\t3.7,\t5.1],\n",
        "[0.2,\t1,\t3.6,\t4.6],\n",
        "[0.5,\t1.7,\t3.3,\t5.1],\n",
        "[0.2,\t1.9,\t3.4,\t4.8],\n",
        "[0.2,\t1.6,\t3,\t5],\n",
        "[0.4,\t1.6,\t3.4,\t5],\n",
        "[0.2,\t1.5,\t3.5,\t5.2],\n",
        "[0.2,\t1.4,\t3.4,\t5.2],\n",
        "[0.2,\t1.6,\t3.2,\t4.7],\n",
        "[0.2,\t1.6,\t3.1,\t4.8],\n",
        "[0.4,\t1.5,\t3.4,\t5.4],\n",
        "[0.1,\t1.5,\t4.1,\t5.2],\n",
        "[0.2,\t1.4,\t4.2,\t5.5],\n",
        "[0.2,\t1.5,\t3.1,\t4.9],\n",
        "[0.2,\t1.2,\t3.2,\t5],\n",
        "[0.2,\t1.3,\t3.5,\t5.5],\n",
        "[0.1,\t1.4,\t3.6,\t4.9],\n",
        "[0.2,\t1.3,\t3,\t4.4],\n",
        "[0.2,\t1.5,\t3.4,\t5.1],\n",
        "[0.3,\t1.3,\t3.5,\t5],\n",
        "[0.3,\t1.3,\t2.3,\t4.5],\n",
        "[0.2,\t1.3,\t3.2,\t4.4],\n",
        "[0.6,\t1.6,\t3.5,\t5],\n",
        "[0.4,\t1.9,\t3.8,\t5.1]\n",
        "])\n",
        "\n",
        "verginica = np.array([\n",
        "[2.5,\t6,\t3.3,\t6.3],\n",
        "[1.9,\t5.1,\t2.7,\t5.8],\n",
        "[2.1,\t5.9,\t3,\t7.1],\n",
        "[1.8,\t5.6,\t2.9,\t6.3],\n",
        "[2.2,\t5.8,\t3,\t6.5],\n",
        "[2.1,\t6.6,\t3,\t7.6],\n",
        "[1.7,\t4.5,\t2.5,\t4.9],\n",
        "[1.8,\t6.3,\t2.9,\t7.3],\n",
        "[1.8,\t5.8,\t2.5,\t6.7],\n",
        "[2.5,\t6.1,\t3.6,\t7.2],\n",
        "[2,\t5.1,\t3.2,\t6.5],\n",
        "[1.9,\t5.3,\t2.7,\t6.4],\n",
        "[2.1,\t5.5,\t3,\t6.8],\n",
        "[2,\t5,\t2.5,\t5.7],\n",
        "[2.4,\t5.1,\t2.8,\t5.8],\n",
        "[2.3,\t5.3,\t3.2,\t6.4],\n",
        "[1.8,\t5.5,\t3, 6.5],\n",
        "[2.2,\t6.7,\t3.8,\t7.7],\n",
        "[2.3,\t6.9,\t2.6,\t7.7],\n",
        "[1.5,\t5,\t2.2,\t6],\n",
        "[2.3,\t5.7,\t3.2,\t6.9],\n",
        "[2,\t4.9,\t2.8,\t5.6],\n",
        "[2,\t6.7,\t2.8,\t7.7],\n",
        "[1.8,\t4.9,\t2.7,\t6.3],\n",
        "[2.1,\t5.7,\t3.3,\t6.7],\n",
        "[1.8,\t6,\t3.2,\t7.2],\n",
        "[1.8,\t4.8,\t2.8,\t6.2],\n",
        "[1.8,\t4.9,\t3,\t6.1],\n",
        "[2.1,\t5.6,\t2.8,\t6.4],\n",
        "[1.6,\t5.8,\t3,\t7.2],\n",
        "[1.9,\t6.1,\t2.8,\t7.4],\n",
        "[2,\t6.4,\t3.8,\t7.9],\n",
        "[2.2,\t5.6,\t2.8,\t6.4],\n",
        "[1.5,\t5.1,\t2.8,\t6.3],\n",
        "[1.4,\t5.6,\t2.6,\t6.1],\n",
        "[2.3,\t6.1,\t3,\t7.7],\n",
        "[2.4,\t5.6,\t3.4,\t6.3],\n",
        "[1.8,\t5.5,\t3.1,\t6.4],\n",
        "[1.8,\t4.8,\t3,\t6],\n",
        "[2.1,\t5.4,\t3.1,\t6.9],\n",
        "[2.4,\t5.6,\t3.1,\t6.7],\n",
        "[2.3,\t5.1,\t3.1,\t6.9],\n",
        "[1.9,\t5.1,\t2.7,\t5.8],\n",
        "[2.3,\t5.9,\t3.2,\t6.8],\n",
        "[2.5,\t5.7,\t3.3,\t6.7]\n",
        "])\n",
        "\n",
        "versicolor = np.array([\n",
        "[1.4,\t4.7,\t3.2,\t7],\n",
        "[1.5,\t4.5,\t3.2,\t6.4],\n",
        "[1.5,\t4.9,\t3.1,\t6.9],\n",
        "[1.3,\t4,\t2.3,\t5.5],\n",
        "[1.5,\t4.6,\t2.8,\t6.5],\n",
        "[1.3,\t4.5,\t2.8,\t5.7],\n",
        "[1.6,\t4.7,\t3.3,\t6.3],\n",
        "[1,\t3.3,\t2.4,\t4.9],\n",
        "[1.3,\t4.6,\t2.9,\t6.6],\n",
        "[1.4,\t3.9,\t2.7,\t5.2],\n",
        "[1,\t3.5,\t2,\t5],\n",
        "[1.5,\t4.2,\t3,\t5.9],\n",
        "[1,\t4,\t2.2,\t6],\n",
        "[1.4,\t4.7,\t2.9,\t6.1],\n",
        "[1.3,\t3.6,\t2.9,\t5.6],\n",
        "[1.4,\t4.4,\t3.1,\t6.7],\n",
        "[1.5,\t4.5,\t3,\t5.6],\n",
        "[1,\t4.1,\t2.7,\t5.8],\n",
        "[1.5,\t4.5,\t2.2,\t6.2],\n",
        "[1.1,\t3.9,\t2.5,\t5.6],\n",
        "[1.8,\t4.8,\t3.2,\t5.9],\n",
        "[1.3,\t4,\t2.8,\t6.1],\n",
        "[1.5,\t4.9,\t2.5,\t6.3],\n",
        "[1.2,\t4.7,\t2.8,\t6.1],\n",
        "[1.3,\t4.3,\t2.9,\t6.4],\n",
        "[1.4,\t4.4,\t3,\t6.6],\n",
        "[1.4,\t4.8,\t2.8,\t6.8],\n",
        "[1.7,\t5,\t3,\t6.7],\n",
        "[1.5,\t4.5,\t2.9,\t6],\n",
        "[1,\t3.5,\t2.6,\t5.7],\n",
        "[1.1,\t3.8,\t2.4,\t5.5],\n",
        "[1,\t3.7,\t2.4,\t5.5],\n",
        "[1.2,\t3.9,\t2.7,\t5.8],\n",
        "[1.6,\t5.1,\t2.7,\t6],\n",
        "[1.5,\t4.5,\t3,\t5.4],\n",
        "[1.6,\t4.5,\t3.4,\t6],\n",
        "[1.5,\t4.7,\t3.1,\t6.7],\n",
        "[1.3,\t4.4,\t2.3,\t6.3],\n",
        "[1.3,\t4.1,\t3,\t5.6],\n",
        "[1.3,\t4,\t2.5,\t5.5],\n",
        "[1.2,\t4.4,\t2.6,\t5.5],\n",
        "[1.4,\t4.6,\t3,\t6.1],\n",
        "[1.2,\t4,\t2.6,\t5.8],\n",
        "[1,\t3.3,\t2.3,\t5],\n",
        "[1.3,\t4.2,\t2.7,\t5.6]                       \n",
        "])\n",
        "\n",
        "unknown = np.array([\n",
        "[0.3,\t1.4,\t3,\t4.8],\n",
        "[0.2,\t1.6,\t3.8,\t5.1],\n",
        "[0.2,\t1.4,\t3.2,\t4.6],\n",
        "[0.2,\t1.5,\t3.7,\t5.3],\n",
        "[0.2,\t1.4,\t3.3,\t5],\n",
        "[1.2,\t4.2,\t3,\t5.7],\n",
        "[1.3,\t4.2,\t2.9,\t5.7],\n",
        "[1.3,\t4.3,\t2.9,\t6.2],\n",
        "[1.1,\t3,\t2.5,\t5.1],\n",
        "[1.3,\t4.1,\t2.8,\t5.7],\n",
        "[2.3,\t5.2,\t3,\t6.7],\n",
        "[1.9,\t5,\t2.5,\t6.3],\n",
        "[2,\t5.2,\t3,\t6.5],\n",
        "[2.3,\t5.4,\t3.4,\t6.2],\n",
        "[1.8,\t5.1,\t3,\t5.9]                    \n",
        "])\n",
        "\n",
        "print(\"setosa \\n\", setosa, \"\\n\")\n",
        "print(\"verginica \\n\", verginica, \"\\n\")\n",
        "print(\"versicolor \\n\", versicolor, \"\\n\")\n",
        "print(\"unknown \\n\", unknown, \"\\n\")"
      ]
    },
    {
      "cell_type": "markdown",
      "metadata": {
        "id": "AhcPdrPym0Nb"
      },
      "source": [
        "##Nomor 5\n",
        "\n",
        "Buatlah scatter plot yang menggunakan pasangan attribut berikut pada setiap kelas (termasuk unknown). Berikan warna merah untuk setosa, hijau untuk versicolor, biru untuk virginica, dan kuning untuk unknown \n",
        "\n",
        "a) Sepal length dan petal width\n",
        "\n",
        "b) Sepal width petal length\n",
        "\n",
        "c) Sepal width dan petal width\n",
        "\n",
        "d) Sepal length dan petal length\n"
      ]
    },
    {
      "cell_type": "code",
      "execution_count": 1,
      "metadata": {
        "colab": {
          "base_uri": "https://localhost:8080/",
          "height": 350
        },
        "id": "ryraxwoxhbYt",
        "outputId": "d7c43722-8dfb-4dd5-e762-ba86c4e7db17"
      },
      "outputs": [
        {
          "ename": "NameError",
          "evalue": "name 'np' is not defined",
          "output_type": "error",
          "traceback": [
            "\u001b[1;31m---------------------------------------------------------------------------\u001b[0m",
            "\u001b[1;31mNameError\u001b[0m                                 Traceback (most recent call last)",
            "\u001b[1;32mg:\\.shortcut-targets-by-id\\1GLhesaekxPRKr-lkNYX-mtfouqJhqhXN\\SIBEUX\\KULIAH\\00 - UNEJ\\00 - Mata Kuliah\\SMT 4\\Data Mining\\#-----TUGAS-----#\\2 - modul-2\\Modul 2\\Modul_2_Datamining.ipynb Cell 9'\u001b[0m in \u001b[0;36m<cell line: 1>\u001b[1;34m()\u001b[0m\n\u001b[1;32m----> <a href='vscode-notebook-cell:/g%3A/.shortcut-targets-by-id/1GLhesaekxPRKr-lkNYX-mtfouqJhqhXN/SIBEUX/KULIAH/00%20-%20UNEJ/00%20-%20Mata%20Kuliah/SMT%204/Data%20Mining/%23-----TUGAS-----%23/2%20-%20modul-2/Modul%202/Modul_2_Datamining.ipynb#ch0000008?line=0'>1</a>\u001b[0m setosa_pw \u001b[39m=\u001b[39m np\u001b[39m.\u001b[39marray(setosa[:,\u001b[39m0\u001b[39m])\n\u001b[0;32m      <a href='vscode-notebook-cell:/g%3A/.shortcut-targets-by-id/1GLhesaekxPRKr-lkNYX-mtfouqJhqhXN/SIBEUX/KULIAH/00%20-%20UNEJ/00%20-%20Mata%20Kuliah/SMT%204/Data%20Mining/%23-----TUGAS-----%23/2%20-%20modul-2/Modul%202/Modul_2_Datamining.ipynb#ch0000008?line=1'>2</a>\u001b[0m setosa_pl \u001b[39m=\u001b[39m np\u001b[39m.\u001b[39marray(setosa[:,\u001b[39m1\u001b[39m])\n\u001b[0;32m      <a href='vscode-notebook-cell:/g%3A/.shortcut-targets-by-id/1GLhesaekxPRKr-lkNYX-mtfouqJhqhXN/SIBEUX/KULIAH/00%20-%20UNEJ/00%20-%20Mata%20Kuliah/SMT%204/Data%20Mining/%23-----TUGAS-----%23/2%20-%20modul-2/Modul%202/Modul_2_Datamining.ipynb#ch0000008?line=2'>3</a>\u001b[0m setosa_sw \u001b[39m=\u001b[39m np\u001b[39m.\u001b[39marray(setosa[:,\u001b[39m2\u001b[39m])\n",
            "\u001b[1;31mNameError\u001b[0m: name 'np' is not defined"
          ]
        }
      ],
      "source": [
        "setosa_pw = np.array(setosa[:,0])\n",
        "setosa_pl = np.array(setosa[:,1])\n",
        "setosa_sw = np.array(setosa[:,2])\n",
        "setosa_sl = np.array(setosa[:,3])\n",
        "\n",
        "verginica_pw = np.array(verginica[:,0])\n",
        "verginica_pl = np.array(verginica[:,1])\n",
        "verginica_sw = np.array(verginica[:,2])\n",
        "verginica_sl = np.array(verginica[:,3])\n",
        "\n",
        "versicolor_pw = np.array(versicolor[:,0])\n",
        "versicolor_pl = np.array(versicolor[:,1])\n",
        "versicolor_sw = np.array(versicolor[:,2])\n",
        "versicolor_sl = np.array(versicolor[:,3])\n",
        "\n",
        "unknown_pw = np.array(unknown[:,0])\n",
        "unknown_pl = np.array(unknown[:,1])\n",
        "unknown_sw = np.array(unknown[:,2])\n",
        "unknown_sl = np.array(unknown[:,3])\n",
        "\n",
        "\n",
        "# Sepal length dan petal width\n",
        "plt.subplot(1,4,1)\n",
        "plt.scatter(setosa_sl, setosa_pw, color = \"red\", label = 'setosa')\n",
        "plt.scatter(verginica_sl, verginica_pw, color = \"blue\", label = 'verginica')\n",
        "plt.scatter(versicolor_sl, versicolor_pw, color = \"green\", label = 'versicolor')\n",
        "plt.scatter(unknown_sl, unknown_pw, color = 'yellow', label = 'unknown')\n",
        "plt.rcParams[\"figure.figsize\"]=(20,5)\n",
        "plt.title(\"Sepal Length Petal Width\")\n",
        "plt.xlabel(\"Sepal Length\")\n",
        "plt.ylabel(\"Petal Width\")\n",
        "plt.legend()\n",
        "\n",
        "# Sepal width petal length\n",
        "plt.subplot(1,4,2)\n",
        "plt.scatter(setosa_sw, setosa_pl, color = \"red\", label = 'setosa')\n",
        "plt.scatter(verginica_sw, verginica_pl, color = \"blue\", label = 'verginica')\n",
        "plt.scatter(versicolor_sw, versicolor_pl, color = \"green\", label = 'versicolor')\n",
        "plt.scatter(unknown_sw, unknown_pl, color = 'yellow', label = 'unknown')\n",
        "plt.rcParams[\"figure.figsize\"]=(20,5)\n",
        "plt.title(\"Sepal Width Petal Length\")\n",
        "plt.xlabel(\"Sepal Width\")\n",
        "plt.ylabel(\"Petal Length\")\n",
        "plt.legend()\n",
        "\n",
        "# Sepal width dan petal width\n",
        "plt.subplot(1,4,3)\n",
        "plt.scatter(setosa_sw, setosa_pw, color = \"red\", label = 'setosa')\n",
        "plt.scatter(verginica_sw, verginica_pw, color = \"blue\", label = 'verginica')\n",
        "plt.scatter(versicolor_sw, versicolor_pw, color = \"green\", label = 'versicolor')\n",
        "plt.scatter(unknown_sw, unknown_pw, color = 'yellow', label = 'unknown')\n",
        "plt.rcParams[\"figure.figsize\"]=(20,5)\n",
        "plt.title(\"Sepal Width Petal Width\")\n",
        "plt.xlabel(\"Sepal Width\")\n",
        "plt.ylabel(\"Petal Width\")\n",
        "plt.legend()\n",
        "\n",
        "# Sepal length dan petal length\n",
        "plt.subplot(1,4,4)\n",
        "plt.scatter(setosa_sl, setosa_pl, color = \"red\", label = 'setosa')\n",
        "plt.scatter(verginica_sl, verginica_pl, color = \"blue\", label = 'verginica')\n",
        "plt.scatter(versicolor_sl, versicolor_pl, color = \"green\", label = 'versicolor')\n",
        "plt.scatter(unknown_sl, unknown_pl, color = 'yellow', label = 'unknown')\n",
        "plt.title(\"Sepal Length dan Petal Length\")\n",
        "plt.xlabel(\"Sepal Length\")\n",
        "plt.ylabel(\"Petal Length\")\n",
        "plt.rcParams[\"figure.figsize\"]=(20,5)\n",
        "plt.legend()\n",
        "\n",
        "plt.show()"
      ]
    },
    {
      "cell_type": "markdown",
      "metadata": {
        "id": "Qo_jn2F4nbuY"
      },
      "source": [
        "##Nomor 6\n",
        "Jelaskan bagaimana karakter pengelompokan setiap kelas pada scatterplot\n",
        "\n"
      ]
    },
    {
      "cell_type": "markdown",
      "metadata": {
        "id": "yslw06Stnjt5"
      },
      "source": [
        "##Nomor 7\n",
        "Perhatikan data yang berjenis unknown. Jelaskan bagaimana cara meramal jenis data unknown\n"
      ]
    },
    {
      "cell_type": "markdown",
      "metadata": {
        "id": "tJ5ugk_jnnKP"
      },
      "source": [
        "##Nomor 8\n",
        "Buatlah pararrel coordinat plot dari data yang berkelas setosa, versicolor, dan virginica. Berikan warna merah untuk setosa, hijau untuk versicolor, biru untuk virginica. "
      ]
    },
    {
      "cell_type": "code",
      "execution_count": null,
      "metadata": {
        "colab": {
          "base_uri": "https://localhost:8080/",
          "height": 320
        },
        "id": "HfA1Lfman5sX",
        "outputId": "50bdcd29-5883-4ac5-c0a1-2eeaab9c2fcc"
      },
      "outputs": [],
      "source": [
        "name = [\"Petal Width\", \"Petal Length\", \"Sepal Width\", \"Sepal Length\"]\n",
        "\n",
        "for i in range(len(setosa)):\n",
        "  plt.plot(name, setosa[i,:], color = \"red\")\n",
        "\n",
        "for i in range(len(verginica)):\n",
        "  plt.plot(name, verginica[i,:], color = \"blue\")\n",
        "\n",
        "for i in range(len(versicolor)):\n",
        "  plt.plot(name, versicolor[i,:], color = \"green\")\n",
        "\n",
        "plt.show()"
      ]
    },
    {
      "cell_type": "markdown",
      "metadata": {
        "id": "6jf8nUhInrRR"
      },
      "source": [
        "##Nomor 9\n",
        "Jelaskan bagaimana karakter pengelompokan setiap kelas pada scatterplot "
      ]
    }
  ],
  "metadata": {
    "colab": {
      "collapsed_sections": [],
      "name": "Modul 2 Datmin.ipynb",
      "provenance": []
    },
    "kernelspec": {
      "display_name": "Python 3",
      "name": "python3"
    },
    "language_info": {
      "codemirror_mode": {
        "name": "ipython",
        "version": 3
      },
      "file_extension": ".py",
      "mimetype": "text/x-python",
      "name": "python",
      "nbconvert_exporter": "python",
      "pygments_lexer": "ipython3",
      "version": "3.9.7"
    }
  },
  "nbformat": 4,
  "nbformat_minor": 0
}
