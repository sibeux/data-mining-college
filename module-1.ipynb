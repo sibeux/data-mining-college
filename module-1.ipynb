{
 "cells": [
  {
   "cell_type": "code",
   "execution_count": 1,
   "metadata": {},
   "outputs": [
    {
     "name": "stdout",
     "output_type": "stream",
     "text": [
      "[[4 4 5]\n",
      " [7 6 4]\n",
      " [9 7 4]\n",
      " [6 3 7]]\n"
     ]
    }
   ],
   "source": [
    "import numpy as np\n",
    "\n",
    "# Buatlah array 2D berikut menggunakan numpy\n",
    "\n",
    "arr = np.array([[4,4,5], \n",
    "                [7,6,4], \n",
    "                [9,7,4],\n",
    "                [6,3,7]])\n",
    "\n",
    "print(arr)"
   ]
  },
  {
   "cell_type": "code",
   "execution_count": 2,
   "metadata": {},
   "outputs": [
    {
     "name": "stdout",
     "output_type": "stream",
     "text": [
      "[[[ 7  8  5]\n",
      "  [ 4  7  7]\n",
      "  [ 7  1  9]\n",
      "  [ 5  4 10]]\n",
      "\n",
      " [[ 2  1  2]\n",
      "  [ 9  8  5]\n",
      "  [ 3  7  3]\n",
      "  [ 4  9  9]]\n",
      "\n",
      " [[ 2  9  3]\n",
      "  [ 2  4  8]\n",
      "  [ 1  6  6]\n",
      "  [ 8  1  3]]]\n"
     ]
    }
   ],
   "source": [
    "# Buatlah array 3D berikut menggunakan numpy\n",
    "\n",
    "arr = np.array([\n",
    "[\n",
    "[7,8,5],\n",
    "[4,7,7],\n",
    "[7,1,9],\n",
    "[5,4,10]\n",
    "],\n",
    "[\n",
    "[2,1,2],\n",
    "[9,8,5],\n",
    "[3,7,3],\n",
    "[4,9,9]\n",
    "],\n",
    "[\n",
    "[2,9,3],\n",
    "[2,4,8],\n",
    "[1,6,6],\n",
    "[8,1,3]\n",
    "]\n",
    "])\n",
    "\n",
    "print(arr)"
   ]
  },
  {
   "cell_type": "code",
   "execution_count": 3,
   "metadata": {},
   "outputs": [
    {
     "name": "stdout",
     "output_type": "stream",
     "text": [
      "[[ 3  8 10  2]\n",
      " [11  3  4  3]\n",
      " [12  1  6  7]\n",
      " [ 4  5 10  9]\n",
      " [10  2  5  4]]\n"
     ]
    }
   ],
   "source": [
    "# Tambahkan angka 1 pada setiap bilangan di baris ganjil array berikut. \n",
    "# kemudian tambahkan angka \n",
    "# 2 pada setiap bilangan di kolom genap array tersebut.\n",
    "\n",
    "            #    0 1 2 3\n",
    "arr = np.array([[1,8,8,2],  # 0\n",
    "                [8,2,1,2],  # 1\n",
    "                [10,1,4,7], # 2\n",
    "                [1,4,7,8],  # 3\n",
    "                [8,2,3,4]]) # 4\n",
    "\n",
    "arr[1::2] += 1\n",
    "arr[::,::2] += 2\n",
    "\n",
    "print(arr)"
   ]
  },
  {
   "cell_type": "code",
   "execution_count": null,
   "metadata": {},
   "outputs": [],
   "source": [
    "# Baliklah sumbu z array 3D berikut\n",
    "\n",
    "arr = np.array([\n",
    "[\n",
    "[7,8,5],\n",
    "[4,7,7],\n",
    "[7,1,9],\n",
    "[5,4,10]\n",
    "],\n",
    "[\n",
    "[2,1,2],\n",
    "[9,8,5],\n",
    "[3,7,3],\n",
    "[4,9,9]\n",
    "],\n",
    "[\n",
    "[2,9,3],\n",
    "[2,4,8],\n",
    "[1,6,6],\n",
    "[8,1,3] \n",
    "]\n",
    "])\n",
    "\n",
    "print(arr[::-1])"
   ]
  },
  {
   "cell_type": "code",
   "execution_count": null,
   "metadata": {},
   "outputs": [],
   "source": [
    "# Ubahlah array pada soal e menjadi array 2D berukuran 6 x 6\n",
    "\n",
    "arr = np.array([\n",
    "[\n",
    "[7,8,5],\n",
    "[4,7,7],\n",
    "[7,1,9],\n",
    "[5,4,10]\n",
    "],\n",
    "[\n",
    "[2,1,2],\n",
    "[9,8,5],\n",
    "[3,7,3],\n",
    "[4,9,9]\n",
    "],\n",
    "[\n",
    "[2,9,3],\n",
    "[2,4,8],\n",
    "[1,6,6],\n",
    "[8,1,3] \n",
    "]\n",
    "])\n",
    "\n",
    "print(arr.reshape(6,6))"
   ]
  },
  {
   "cell_type": "code",
   "execution_count": null,
   "metadata": {},
   "outputs": [],
   "source": [
    "arr = np.array([\n",
    "    [ 5, 10, 10, 7],\n",
    "    [ 7,  8, 4, 10],\n",
    "    [ 9, 10, 2,  5],\n",
    "    [ 1,  8, 9,  3],\n",
    "    [ 6, 10, 5,  2],\n",
    "    [ 4,  6, 9,  4]\n",
    "])\n",
    "\n",
    "arr[:3,[0,1]],arr[3:,[2,3]] = arr[3:,[2,3]],arr[:3,[0,1]]\n",
    "arr[:3,[2,3]],arr[3:,[0,1]] = arr[3:,[0,1]],arr[:3,[2,3]]\n",
    "\n",
    "print(arr)"
   ]
  },
  {
   "cell_type": "code",
   "execution_count": null,
   "metadata": {},
   "outputs": [],
   "source": []
  }
 ],
 "metadata": {
  "interpreter": {
   "hash": "70e32dc76d27417f5e9ec5e494b9f807900c34e0fc91e8110dad087c5aafef2c"
  },
  "kernelspec": {
   "display_name": "Python 3.9.7 ('base')",
   "language": "python",
   "name": "python3"
  },
  "language_info": {
   "codemirror_mode": {
    "name": "ipython",
    "version": 3
   },
   "file_extension": ".py",
   "mimetype": "text/x-python",
   "name": "python",
   "nbconvert_exporter": "python",
   "pygments_lexer": "ipython3",
   "version": "3.9.7"
  },
  "orig_nbformat": 4
 },
 "nbformat": 4,
 "nbformat_minor": 2
}
