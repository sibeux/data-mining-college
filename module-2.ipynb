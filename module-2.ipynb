{
 "cells": [
  {
   "cell_type": "markdown",
   "metadata": {},
   "source": [
    "1.  Jelaskan makna dataset. Jelaskan pula makna data training dan data testing!\n",
    "\n",
    "A. Dataset\n",
    "\n",
    "Dataset adalah kumpulan data yang terurut. Saat mengolah data, dataset dapat berupa sekumpulan tabel, skema, dan objek lainnya. Dataset pada dasarnya diatur untuk model terteyang membantu untuk memproses informasi yang dibutuhkan. Dataset juga merupakan kumpulan informasi yang disimpan secara permanen yang biasanya berisi data tingkat kasus, data ydikumpulkan, atau data tingkat panduan statistik.\n",
    "Dataset menggambarkan nilai untuk setiap variabel untuk jumlah yang tidak diketahui seperti tinggi, berat, suhu, volume, dll. dari suatu objek atau nilai angka acak. Nilai-nidalam himpunan ini dikenal sebagai datum. Dataset terdiri dari data dari satu atau lebih elemen yang sesuai dengan setiap baris.\n",
    "\n",
    "B. Data Training\n",
    "\n",
    "Jenis data ini membangun algoritma machine learning. Ilmuwan data/data scientist memasukkan algoritma input data, yang sesuai dengan keluaran yang diharapkan. Model mengevaluasi data berulang kali untuk mempelajari lebih lanjut tentang perilaku data dan kemudian menyesuaikan untuk memenuhi tujuan yang dimaksudkan.\n",
    "\n",
    "C. Data Testing\n",
    "\n",
    "Setelah model dibangun, data testing akan sekali lagi memvalidasi bahwa model tersebut dapat membuat prediksi yang akurat. Jika data training dan validasi menyertakan label untuk memantau metrik kinerja model, data testing sebaiknya tidak diberi label. Data testing memberikan pemeriksaan akhir real-world dari kumpulan data yang tidak terlihat untuk mengonfirmasi bahwa algoritma ML telah dilatih secara efektif."
   ]
  },
  {
   "cell_type": "markdown",
   "metadata": {},
   "source": [
    "2. Jelaskan proses penyusunan dataset\n",
    "\n",
    "a. menentukan sebuah atribut dari suatu data\n",
    "\n",
    "b. memberikan value/element data dari atribut yang tadi telah ditentukan\n",
    "\n",
    "c. menentukan pola apa saja dari sebuah atribut data\n",
    "\n",
    "d. menentukan sebuah kelas yang dihasilkan berdasarkan value atribut"
   ]
  },
  {
   "cell_type": "markdown",
   "metadata": {},
   "source": [
    "3. makna atribut dataset iris dan kelas dataset iris\n",
    "\n",
    "dataset bunga Iris adalah dataset multivariat yang diperkenalkan oleh ahli statistik Inggris dan\n",
    "ahli biologi Ronald Fisher dalam makalahnya tahun 1936 tentang penggunaan beberapa pengukuran dalam masalah taksonomi. Kadang-kadang disebut dataset Iris Anderson karena Edgar Anderson mengumpulkan\n",
    "data untuk mengukur variasi morfologi bunga Iris dari tiga spesies terkait. dataset\n",
    "terdiri dari 50 sampel dari masing-masing tiga spesies Iris (Iris Setosa, Iris virginica, dan Iris\n",
    "versikolor). Empat fitur diukur dari setiap sampel: panjang dan lebar\n",
    "sepal dan petal, dalam sentimeter. Dataset ini menjadi kasus uji khas untuk banyak statistik\n",
    "teknik klasifikasi dalam pembelajaran mesin seperti support vector machine. dataset\n",
    "berisi satu set 150 catatan di bawah 5 atribut - Panjang Petal, Lebar Petal, Panjang Sepal, Sepal\n",
    "lebar dan Kelas (Spesies)."
   ]
  },
  {
   "cell_type": "markdown",
   "metadata": {},
   "source": [
    "4. Masukkan dataset iris sebagai array 2D di numpy. Pisahkan setiap kelas di array yang berbeda : setosa, versicolor, virginica, dan unknown"
   ]
  },
  {
   "cell_type": "code",
   "execution_count": 1,
   "metadata": {},
   "outputs": [
    {
     "name": "stdout",
     "output_type": "stream",
     "text": [
      "setosa \n",
      " [[0.2 1.4 3.5 5.1]\n",
      " [0.2 1.4 3.  4.9]\n",
      " [0.2 1.3 3.2 4.7]\n",
      " [0.2 1.5 3.1 4.6]\n",
      " [0.2 1.4 3.6 5. ]\n",
      " [0.4 1.7 3.9 5.4]\n",
      " [0.3 1.4 3.4 4.6]\n",
      " [0.2 1.5 3.4 5. ]\n",
      " [0.2 1.4 2.9 4.4]\n",
      " [0.1 1.5 3.1 4.9]\n",
      " [0.2 1.5 3.7 5.4]\n",
      " [0.2 1.6 3.4 4.8]\n",
      " [0.1 1.4 3.  4.8]\n",
      " [0.1 1.1 3.  4.3]\n",
      " [0.2 1.2 4.  5.8]\n",
      " [0.4 1.5 4.4 5.7]\n",
      " [0.4 1.3 3.9 5.4]\n",
      " [0.3 1.4 3.5 5.1]\n",
      " [0.3 1.7 3.8 5.7]\n",
      " [0.3 1.5 3.8 5.1]\n",
      " [0.2 1.7 3.4 5.4]\n",
      " [0.4 1.5 3.7 5.1]\n",
      " [0.2 1.  3.6 4.6]\n",
      " [0.5 1.7 3.3 5.1]\n",
      " [0.2 1.9 3.4 4.8]\n",
      " [0.2 1.6 3.  5. ]\n",
      " [0.4 1.6 3.4 5. ]\n",
      " [0.2 1.5 3.5 5.2]\n",
      " [0.2 1.4 3.4 5.2]\n",
      " [0.2 1.6 3.2 4.7]\n",
      " [0.2 1.6 3.1 4.8]\n",
      " [0.4 1.5 3.4 5.4]\n",
      " [0.1 1.5 4.1 5.2]\n",
      " [0.2 1.4 4.2 5.5]\n",
      " [0.2 1.5 3.1 4.9]\n",
      " [0.2 1.2 3.2 5. ]\n",
      " [0.2 1.3 3.5 5.5]\n",
      " [0.1 1.4 3.6 4.9]\n",
      " [0.2 1.3 3.  4.4]\n",
      " [0.2 1.5 3.4 5.1]\n",
      " [0.3 1.3 3.5 5. ]\n",
      " [0.3 1.3 2.3 4.5]\n",
      " [0.2 1.3 3.2 4.4]\n",
      " [0.6 1.6 3.5 5. ]\n",
      " [0.4 1.9 3.8 5.1]] \n",
      "\n",
      "verginica \n",
      " [[2.5 6.  3.3 6.3]\n",
      " [1.9 5.1 2.7 5.8]\n",
      " [2.1 5.9 3.  7.1]\n",
      " [1.8 5.6 2.9 6.3]\n",
      " [2.2 5.8 3.  6.5]\n",
      " [2.1 6.6 3.  7.6]\n",
      " [1.7 4.5 2.5 4.9]\n",
      " [1.8 6.3 2.9 7.3]\n",
      " [1.8 5.8 2.5 6.7]\n",
      " [2.5 6.1 3.6 7.2]\n",
      " [2.  5.1 3.2 6.5]\n",
      " [1.9 5.3 2.7 6.4]\n",
      " [2.1 5.5 3.  6.8]\n",
      " [2.  5.  2.5 5.7]\n",
      " [2.4 5.1 2.8 5.8]\n",
      " [2.3 5.3 3.2 6.4]\n",
      " [1.8 5.5 3.  6.5]\n",
      " [2.2 6.7 3.8 7.7]\n",
      " [2.3 6.9 2.6 7.7]\n",
      " [1.5 5.  2.2 6. ]\n",
      " [2.3 5.7 3.2 6.9]\n",
      " [2.  4.9 2.8 5.6]\n",
      " [2.  6.7 2.8 7.7]\n",
      " [1.8 4.9 2.7 6.3]\n",
      " [2.1 5.7 3.3 6.7]\n",
      " [1.8 6.  3.2 7.2]\n",
      " [1.8 4.8 2.8 6.2]\n",
      " [1.8 4.9 3.  6.1]\n",
      " [2.1 5.6 2.8 6.4]\n",
      " [1.6 5.8 3.  7.2]\n",
      " [1.9 6.1 2.8 7.4]\n",
      " [2.  6.4 3.8 7.9]\n",
      " [2.2 5.6 2.8 6.4]\n",
      " [1.5 5.1 2.8 6.3]\n",
      " [1.4 5.6 2.6 6.1]\n",
      " [2.3 6.1 3.  7.7]\n",
      " [2.4 5.6 3.4 6.3]\n",
      " [1.8 5.5 3.1 6.4]\n",
      " [1.8 4.8 3.  6. ]\n",
      " [2.1 5.4 3.1 6.9]\n",
      " [2.4 5.6 3.1 6.7]\n",
      " [2.3 5.1 3.1 6.9]\n",
      " [1.9 5.1 2.7 5.8]\n",
      " [2.3 5.9 3.2 6.8]\n",
      " [2.5 5.7 3.3 6.7]] \n",
      "\n",
      "versicolor \n",
      " [[1.4 4.7 3.2 7. ]\n",
      " [1.5 4.5 3.2 6.4]\n",
      " [1.5 4.9 3.1 6.9]\n",
      " [1.3 4.  2.3 5.5]\n",
      " [1.5 4.6 2.8 6.5]\n",
      " [1.3 4.5 2.8 5.7]\n",
      " [1.6 4.7 3.3 6.3]\n",
      " [1.  3.3 2.4 4.9]\n",
      " [1.3 4.6 2.9 6.6]\n",
      " [1.4 3.9 2.7 5.2]\n",
      " [1.  3.5 2.  5. ]\n",
      " [1.5 4.2 3.  5.9]\n",
      " [1.  4.  2.2 6. ]\n",
      " [1.4 4.7 2.9 6.1]\n",
      " [1.3 3.6 2.9 5.6]\n",
      " [1.4 4.4 3.1 6.7]\n",
      " [1.5 4.5 3.  5.6]\n",
      " [1.  4.1 2.7 5.8]\n",
      " [1.5 4.5 2.2 6.2]\n",
      " [1.1 3.9 2.5 5.6]\n",
      " [1.8 4.8 3.2 5.9]\n",
      " [1.3 4.  2.8 6.1]\n",
      " [1.5 4.9 2.5 6.3]\n",
      " [1.2 4.7 2.8 6.1]\n",
      " [1.3 4.3 2.9 6.4]\n",
      " [1.4 4.4 3.  6.6]\n",
      " [1.4 4.8 2.8 6.8]\n",
      " [1.7 5.  3.  6.7]\n",
      " [1.5 4.5 2.9 6. ]\n",
      " [1.  3.5 2.6 5.7]\n",
      " [1.1 3.8 2.4 5.5]\n",
      " [1.  3.7 2.4 5.5]\n",
      " [1.2 3.9 2.7 5.8]\n",
      " [1.6 5.1 2.7 6. ]\n",
      " [1.5 4.5 3.  5.4]\n",
      " [1.6 4.5 3.4 6. ]\n",
      " [1.5 4.7 3.1 6.7]\n",
      " [1.3 4.4 2.3 6.3]\n",
      " [1.3 4.1 3.  5.6]\n",
      " [1.3 4.  2.5 5.5]\n",
      " [1.2 4.4 2.6 5.5]\n",
      " [1.4 4.6 3.  6.1]\n",
      " [1.2 4.  2.6 5.8]\n",
      " [1.  3.3 2.3 5. ]\n",
      " [1.3 4.2 2.7 5.6]] \n",
      "\n",
      "unknown \n",
      " [[0.3 1.4 3.  4.8]\n",
      " [0.2 1.6 3.8 5.1]\n",
      " [0.2 1.4 3.2 4.6]\n",
      " [0.2 1.5 3.7 5.3]\n",
      " [0.2 1.4 3.3 5. ]\n",
      " [1.2 4.2 3.  5.7]\n",
      " [1.3 4.2 2.9 5.7]\n",
      " [1.3 4.3 2.9 6.2]\n",
      " [1.1 3.  2.5 5.1]\n",
      " [1.3 4.1 2.8 5.7]\n",
      " [2.3 5.2 3.  6.7]\n",
      " [1.9 5.  2.5 6.3]\n",
      " [2.  5.2 3.  6.5]\n",
      " [2.3 5.4 3.4 6.2]\n",
      " [1.8 5.1 3.  5.9]] \n",
      "\n"
     ]
    }
   ],
   "source": [
    "import numpy as np\n",
    "import matplotlib.pyplot as plt\n",
    "\n",
    "setosa = np.array([\n",
    "[0.2,\t1.4,\t3.5,\t5.1],\n",
    "[0.2,\t1.4,\t3,\t4.9],\n",
    "[0.2,\t1.3,\t3.2,\t4.7],\n",
    "[0.2,\t1.5,\t3.1,\t4.6],\n",
    "[0.2,\t1.4,\t3.6,\t5],\n",
    "[0.4,\t1.7,\t3.9,\t5.4],\n",
    "[0.3,\t1.4,\t3.4,\t4.6],\n",
    "[0.2,\t1.5,\t3.4,\t5],\n",
    "[0.2,\t1.4,\t2.9,\t4.4],\n",
    "[0.1,\t1.5,\t3.1,\t4.9],\n",
    "[0.2,\t1.5,\t3.7,\t5.4],\n",
    "[0.2,\t1.6,\t3.4,\t4.8],\n",
    "[0.1,\t1.4,\t3,\t4.8],\n",
    "[0.1,\t1.1,\t3,\t4.3],\n",
    "[0.2,\t1.2,\t4,\t5.8],\n",
    "[0.4,\t1.5,\t4.4,\t5.7],\n",
    "[0.4,\t1.3,\t3.9,\t5.4],\n",
    "[0.3,\t1.4,\t3.5,\t5.1],\n",
    "[0.3,\t1.7,\t3.8,\t5.7],\n",
    "[0.3,\t1.5,\t3.8,\t5.1],\n",
    "[0.2,\t1.7,\t3.4,\t5.4],\n",
    "[0.4,\t1.5,\t3.7,\t5.1],\n",
    "[0.2,\t1,\t3.6,\t4.6],\n",
    "[0.5,\t1.7,\t3.3,\t5.1],\n",
    "[0.2,\t1.9,\t3.4,\t4.8],\n",
    "[0.2,\t1.6,\t3,\t5],\n",
    "[0.4,\t1.6,\t3.4,\t5],\n",
    "[0.2,\t1.5,\t3.5,\t5.2],\n",
    "[0.2,\t1.4,\t3.4,\t5.2],\n",
    "[0.2,\t1.6,\t3.2,\t4.7],\n",
    "[0.2,\t1.6,\t3.1,\t4.8],\n",
    "[0.4,\t1.5,\t3.4,\t5.4],\n",
    "[0.1,\t1.5,\t4.1,\t5.2],\n",
    "[0.2,\t1.4,\t4.2,\t5.5],\n",
    "[0.2,\t1.5,\t3.1,\t4.9],\n",
    "[0.2,\t1.2,\t3.2,\t5],\n",
    "[0.2,\t1.3,\t3.5,\t5.5],\n",
    "[0.1,\t1.4,\t3.6,\t4.9],\n",
    "[0.2,\t1.3,\t3,\t4.4],\n",
    "[0.2,\t1.5,\t3.4,\t5.1],\n",
    "[0.3,\t1.3,\t3.5,\t5],\n",
    "[0.3,\t1.3,\t2.3,\t4.5],\n",
    "[0.2,\t1.3,\t3.2,\t4.4],\n",
    "[0.6,\t1.6,\t3.5,\t5],\n",
    "[0.4,\t1.9,\t3.8,\t5.1]\n",
    "])\n",
    "\n",
    "verginica = np.array([\n",
    "[2.5,\t6,\t3.3,\t6.3],\n",
    "[1.9,\t5.1,\t2.7,\t5.8],\n",
    "[2.1,\t5.9,\t3,\t7.1],\n",
    "[1.8,\t5.6,\t2.9,\t6.3],\n",
    "[2.2,\t5.8,\t3,\t6.5],\n",
    "[2.1,\t6.6,\t3,\t7.6],\n",
    "[1.7,\t4.5,\t2.5,\t4.9],\n",
    "[1.8,\t6.3,\t2.9,\t7.3],\n",
    "[1.8,\t5.8,\t2.5,\t6.7],\n",
    "[2.5,\t6.1,\t3.6,\t7.2],\n",
    "[2,\t5.1,\t3.2,\t6.5],\n",
    "[1.9,\t5.3,\t2.7,\t6.4],\n",
    "[2.1,\t5.5,\t3,\t6.8],\n",
    "[2,\t5,\t2.5,\t5.7],\n",
    "[2.4,\t5.1,\t2.8,\t5.8],\n",
    "[2.3,\t5.3,\t3.2,\t6.4],\n",
    "[1.8,\t5.5,\t3, 6.5],\n",
    "[2.2,\t6.7,\t3.8,\t7.7],\n",
    "[2.3,\t6.9,\t2.6,\t7.7],\n",
    "[1.5,\t5,\t2.2,\t6],\n",
    "[2.3,\t5.7,\t3.2,\t6.9],\n",
    "[2,\t4.9,\t2.8,\t5.6],\n",
    "[2,\t6.7,\t2.8,\t7.7],\n",
    "[1.8,\t4.9,\t2.7,\t6.3],\n",
    "[2.1,\t5.7,\t3.3,\t6.7],\n",
    "[1.8,\t6,\t3.2,\t7.2],\n",
    "[1.8,\t4.8,\t2.8,\t6.2],\n",
    "[1.8,\t4.9,\t3,\t6.1],\n",
    "[2.1,\t5.6,\t2.8,\t6.4],\n",
    "[1.6,\t5.8,\t3,\t7.2],\n",
    "[1.9,\t6.1,\t2.8,\t7.4],\n",
    "[2,\t6.4,\t3.8,\t7.9],\n",
    "[2.2,\t5.6,\t2.8,\t6.4],\n",
    "[1.5,\t5.1,\t2.8,\t6.3],\n",
    "[1.4,\t5.6,\t2.6,\t6.1],\n",
    "[2.3,\t6.1,\t3,\t7.7],\n",
    "[2.4,\t5.6,\t3.4,\t6.3],\n",
    "[1.8,\t5.5,\t3.1,\t6.4],\n",
    "[1.8,\t4.8,\t3,\t6],\n",
    "[2.1,\t5.4,\t3.1,\t6.9],\n",
    "[2.4,\t5.6,\t3.1,\t6.7],\n",
    "[2.3,\t5.1,\t3.1,\t6.9],\n",
    "[1.9,\t5.1,\t2.7,\t5.8],\n",
    "[2.3,\t5.9,\t3.2,\t6.8],\n",
    "[2.5,\t5.7,\t3.3,\t6.7]\n",
    "])\n",
    "\n",
    "versicolor = np.array([\n",
    "[1.4,\t4.7,\t3.2,\t7],\n",
    "[1.5,\t4.5,\t3.2,\t6.4],\n",
    "[1.5,\t4.9,\t3.1,\t6.9],\n",
    "[1.3,\t4,\t2.3,\t5.5],\n",
    "[1.5,\t4.6,\t2.8,\t6.5],\n",
    "[1.3,\t4.5,\t2.8,\t5.7],\n",
    "[1.6,\t4.7,\t3.3,\t6.3],\n",
    "[1,\t3.3,\t2.4,\t4.9],\n",
    "[1.3,\t4.6,\t2.9,\t6.6],\n",
    "[1.4,\t3.9,\t2.7,\t5.2],\n",
    "[1,\t3.5,\t2,\t5],\n",
    "[1.5,\t4.2,\t3,\t5.9],\n",
    "[1,\t4,\t2.2,\t6],\n",
    "[1.4,\t4.7,\t2.9,\t6.1],\n",
    "[1.3,\t3.6,\t2.9,\t5.6],\n",
    "[1.4,\t4.4,\t3.1,\t6.7],\n",
    "[1.5,\t4.5,\t3,\t5.6],\n",
    "[1,\t4.1,\t2.7,\t5.8],\n",
    "[1.5,\t4.5,\t2.2,\t6.2],\n",
    "[1.1,\t3.9,\t2.5,\t5.6],\n",
    "[1.8,\t4.8,\t3.2,\t5.9],\n",
    "[1.3,\t4,\t2.8,\t6.1],\n",
    "[1.5,\t4.9,\t2.5,\t6.3],\n",
    "[1.2,\t4.7,\t2.8,\t6.1],\n",
    "[1.3,\t4.3,\t2.9,\t6.4],\n",
    "[1.4,\t4.4,\t3,\t6.6],\n",
    "[1.4,\t4.8,\t2.8,\t6.8],\n",
    "[1.7,\t5,\t3,\t6.7],\n",
    "[1.5,\t4.5,\t2.9,\t6],\n",
    "[1,\t3.5,\t2.6,\t5.7],\n",
    "[1.1,\t3.8,\t2.4,\t5.5],\n",
    "[1,\t3.7,\t2.4,\t5.5],\n",
    "[1.2,\t3.9,\t2.7,\t5.8],\n",
    "[1.6,\t5.1,\t2.7,\t6],\n",
    "[1.5,\t4.5,\t3,\t5.4],\n",
    "[1.6,\t4.5,\t3.4,\t6],\n",
    "[1.5,\t4.7,\t3.1,\t6.7],\n",
    "[1.3,\t4.4,\t2.3,\t6.3],\n",
    "[1.3,\t4.1,\t3,\t5.6],\n",
    "[1.3,\t4,\t2.5,\t5.5],\n",
    "[1.2,\t4.4,\t2.6,\t5.5],\n",
    "[1.4,\t4.6,\t3,\t6.1],\n",
    "[1.2,\t4,\t2.6,\t5.8],\n",
    "[1,\t3.3,\t2.3,\t5],\n",
    "[1.3,\t4.2,\t2.7,\t5.6]                       \n",
    "])\n",
    "\n",
    "unknown = np.array([\n",
    "[0.3,\t1.4,\t3,\t4.8],\n",
    "[0.2,\t1.6,\t3.8,\t5.1],\n",
    "[0.2,\t1.4,\t3.2,\t4.6],\n",
    "[0.2,\t1.5,\t3.7,\t5.3],\n",
    "[0.2,\t1.4,\t3.3,\t5],\n",
    "[1.2,\t4.2,\t3,\t5.7],\n",
    "[1.3,\t4.2,\t2.9,\t5.7],\n",
    "[1.3,\t4.3,\t2.9,\t6.2],\n",
    "[1.1,\t3,\t2.5,\t5.1],\n",
    "[1.3,\t4.1,\t2.8,\t5.7],\n",
    "[2.3,\t5.2,\t3,\t6.7],\n",
    "[1.9,\t5,\t2.5,\t6.3],\n",
    "[2,\t5.2,\t3,\t6.5],\n",
    "[2.3,\t5.4,\t3.4,\t6.2],\n",
    "[1.8,\t5.1,\t3,\t5.9]                    \n",
    "])\n",
    "\n",
    "print(\"setosa \\n\", setosa, \"\\n\")\n",
    "print(\"verginica \\n\", verginica, \"\\n\")\n",
    "print(\"versicolor \\n\", versicolor, \"\\n\")\n",
    "print(\"unknown \\n\", unknown, \"\\n\")"
   ]
  },
  {
   "cell_type": "markdown",
   "metadata": {},
   "source": [
    "5.\tBuatlah scatter plot yang menggunakan pasangan attribut berikut pada setiap kelas (termasuk unknown). Berikan warna merah untuk setosa, hijau untuk versicolor, biru untuk virginica, dan kuning untuk unknown \n",
    "\n",
    "A.\tSepal length [3] dan petal width [0]\n",
    "\n",
    "B.\tSepal width [2] petal length [1]\n",
    "\n",
    "C.\tSepal width [2] dan petal width [0]\n",
    "\n",
    "D.\tSepal length [3] dan petal length [1]\n"
   ]
  },
  {
   "cell_type": "code",
   "execution_count": 9,
   "metadata": {},
   "outputs": [
    {
     "data": {
      "text/plain": [
       "<matplotlib.collections.PathCollection at 0x20f3f8ee310>"
      ]
     },
     "execution_count": 9,
     "metadata": {},
     "output_type": "execute_result"
    },
    {
     "data": {
      "image/png": "[encoded data removed]",
      "text/plain": [
       "<Figure size 432x288 with 1 Axes>"
      ]
     },
     "metadata": {
      "needs_background": "light"
     },
     "output_type": "display_data"
    }
   ],
   "source": [
    "# \n",
    "\n",
    "a1 = setosa[:,3]\n",
    "a2 = setosa[:,1]\n",
    "b1 = verginica[:,3]\n",
    "b2 = verginica[:,1]\n",
    "c1 = versicolor[:,3]\n",
    "c2 = versicolor[:,1]\n",
    "d1 = unknown[:,3]\n",
    "d2 = unknown[:,1]\n",
    "\n",
    "plt.scatter(a1, a2, color='red')\n",
    "plt.scatter(b1, b2, color='blue')\n",
    "plt.scatter(c1, c2, color='green')\n",
    "plt.scatter(d1, d2, color='yellow')"
   ]
  },
  {
   "cell_type": "markdown",
   "metadata": {},
   "source": [
    "6.\tJelaskan bagaimana karakter pengelompokan setiap kelas pada scatterplot"
   ]
  },
  {
   "cell_type": "code",
   "execution_count": 5,
   "metadata": {},
   "outputs": [
    {
     "data": {
      "text/plain": [
       "<matplotlib.collections.PathCollection at 0x20f3f71dd60>"
      ]
     },
     "execution_count": 5,
     "metadata": {},
     "output_type": "execute_result"
    },
    {
     "data": {
      "image/png": "[encoded data removed]",
      "text/plain": [
       "<Figure size 432x288 with 1 Axes>"
      ]
     },
     "metadata": {
      "needs_background": "light"
     },
     "output_type": "display_data"
    }
   ],
   "source": [
    "pw = verginica[:,0]\n",
    "pl = verginica[:,1]\n",
    "sw = verginica[:,2]\n",
    "sl = verginica[:,3]\n",
    "\n",
    "plt.scatter(sl, pw, color='blue')\n",
    "plt.scatter(sw, pl, color='blue')\n",
    "plt.scatter(sw, pw, color='blue')\n",
    "plt.scatter(sl, pl, color='blue')"
   ]
  },
  {
   "cell_type": "markdown",
   "metadata": {},
   "source": [
    "7.\tPerhatikan data yang berjenis unknown. Jelaskan bagaimana cara meramal jenis data unknown"
   ]
  },
  {
   "cell_type": "code",
   "execution_count": 6,
   "metadata": {},
   "outputs": [
    {
     "data": {
      "text/plain": [
       "<matplotlib.collections.PathCollection at 0x20f3f796670>"
      ]
     },
     "execution_count": 6,
     "metadata": {},
     "output_type": "execute_result"
    },
    {
     "data": {
      "image/png": "[encoded data removed]",
      "text/plain": [
       "<Figure size 432x288 with 1 Axes>"
      ]
     },
     "metadata": {
      "needs_background": "light"
     },
     "output_type": "display_data"
    }
   ],
   "source": [
    "a1 = setosa[:,3]\n",
    "a2 = setosa[:,0]\n",
    "b1 = verginica[:,3]\n",
    "b2 = verginica[:,0]\n",
    "c1 = versicolor[:,3]\n",
    "c2 = versicolor[:,0]\n",
    "d1 = unknown[:,3]\n",
    "d2 = unknown[:,0]\n",
    "\n",
    "plt.scatter(a1, a2, color='red')\n",
    "plt.scatter(b1, b2, color='blue')\n",
    "plt.scatter(c1, c2, color='green')\n",
    "plt.scatter(d1, d2, color='yellow')"
   ]
  },
  {
   "cell_type": "markdown",
   "metadata": {},
   "source": [
    "8.\tBuatlah pararrel coordinat plot dari data yang berkelas setosa, versicolor, dan virginica. Berikan warna merah untuk setosa, hijau untuk versicolor, biru untuk virginica. Hint gunakan perintah plot dan operasi slicing pada numpy untuk mempermudah tugas anda "
   ]
  },
  {
   "cell_type": "code",
   "execution_count": 10,
   "metadata": {},
   "outputs": [
    {
     "data": {
      "image/png": "[encoded data removed]",
      "text/plain": [
       "<Figure size 432x288 with 1 Axes>"
      ]
     },
     "metadata": {
      "needs_background": "light"
     },
     "output_type": "display_data"
    }
   ],
   "source": [
    "name = [\"petal width\", \"petal length\", \"sepal width\", \"sepal length\"]\n",
    "\n",
    "for x in range(len(setosa)):\n",
    "    plt.plot(name, setosa[x,:], color='red')\n",
    "for x in range(len(verginica)):\n",
    "    plt.plot(name, verginica[x,:], color='blue')\n",
    "for x in range(len(versicolor)):\n",
    "    plt.plot(name, versicolor[x,:], color='green')\n",
    "\n",
    "plt.show()"
   ]
  },
  {
   "cell_type": "markdown",
   "metadata": {},
   "source": [
    "9.\tJelaskan bagaimana karakter pengelompokan setiap kelas pada scatterplot (parallel coordinat?)"
   ]
  }
 ],
 "metadata": {
  "interpreter": {
   "hash": "70e32dc76d27417f5e9ec5e494b9f807900c34e0fc91e8110dad087c5aafef2c"
  },
  "kernelspec": {
   "display_name": "Python 3.9.7 ('base')",
   "language": "python",
   "name": "python3"
  },
  "language_info": {
   "codemirror_mode": {
    "name": "ipython",
    "version": 3
   },
   "file_extension": ".py",
   "mimetype": "text/x-python",
   "name": "python",
   "nbconvert_exporter": "python",
   "pygments_lexer": "ipython3",
   "version": "3.9.7"
  },
  "orig_nbformat": 4
 },
 "nbformat": 4,
 "nbformat_minor": 2
}
